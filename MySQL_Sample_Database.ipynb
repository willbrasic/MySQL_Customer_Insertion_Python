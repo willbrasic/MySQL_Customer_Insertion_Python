{
 "cells": [
  {
   "cell_type": "markdown",
   "metadata": {},
   "source": [
    "# Create Database and Tables\n",
    "\n",
    "The purpose of this program is to create the sample database.\n",
    "\n",
    "Author: William Brasic\n",
    "\n",
    "Date: 07 July 2021\n"
   ]
  },
  {
   "cell_type": "code",
   "execution_count": 1,
   "metadata": {},
   "outputs": [
    {
     "name": "stdout",
     "output_type": "stream",
     "text": [
      "Databae CofeeCB created\n",
      "Table Coffee created\n",
      "Table Customer created\n",
      "Table UnpaidOrder created\n"
     ]
    }
   ],
   "source": [
    "import mysql.connector # import mysql connector library\n",
    "\n",
    "# create a connect object\n",
    "conn = mysql.connector.connect(\n",
    "    host = 'localhost',\n",
    "    user = 'root',\n",
    "    passwd = ''\n",
    ")\n",
    "\n",
    "# Create a cursor\n",
    "cur = conn.cursor()\n",
    "\n",
    "DB_CREATE_STR = 'CREATE DATABASE IF NOT EXISTS CoffeeDB'\n",
    "USE_DB_STR='USE CoffeeDB'\n",
    "TABLE_COFFEE_STR = 'CREATE TABLE Coffee (\\\n",
    "                    Description CHAR(25), \\\n",
    "                    ProdNum CHAR(10) NOT NULL PRIMARY KEY, \\\n",
    "                    Price DOUBLE)'\n",
    "TABLE_CUSTOMER_STR = 'CREATE TABLE Customer(\\\n",
    "                      CustomerNumber CHAR(10) NOT NULL PRIMARY KEY, \\\n",
    "                      Name CHAR(25),\\\n",
    "                      Address CHAR(25),\\\n",
    "                      City CHAR(12),\\\n",
    "                      State CHAR(2),\\\n",
    "                      Zip CHAR(5))'\n",
    "\n",
    "TABLE_UNPAID_STR ='CREATE TABLE UnpaidOrder (\\\n",
    "                  CustomerNumber CHAR(10) NOT NULL REFERENCES Customer(CustomerNumber), \\\n",
    "                  ProdNum CHAR(10) NOT NULL REFERENCES Coffee(ProdNum),\\\n",
    "                  OrderDate CHAR(10),\\\n",
    "                  Quantity DOUBLE,\\\n",
    "                  Cost DOUBLE)'\n",
    "                    \n",
    "cur.execute(DB_CREATE_STR)\n",
    "cur.execute(USE_DB_STR)\n",
    "print('Databae CofeeCB created')\n",
    "cur.execute('DROP TABLE IF EXISTS Coffee')\n",
    "cur.execute('DROP TABLE IF EXISTS Customer')\n",
    "cur.execute('DROP TABLE IF EXISTS unpaidorder')\n",
    "\n",
    "cur.execute(TABLE_COFFEE_STR)\n",
    "# Insert rows\n",
    "cur.execute(\"INSERT INTO Coffee VALUES ( 'Bolivian Dark', '14-001', 8.95 )\")\n",
    "cur.execute(\"INSERT INTO Coffee VALUES ( 'Bolivian Medium', '14-002', 8.95 )\")\n",
    "cur.execute(\"INSERT INTO Coffee VALUES ( 'Brazilian Dark', '15-001', 7.95 )\")\n",
    "cur.execute(\"INSERT INTO Coffee VALUES ( 'Brazilian Medium', '15-002', 7.95 )\")\n",
    "cur.execute(\"INSERT INTO Coffee VALUES ( 'Brazilian Decaf', '15-003', 8.55 )\")\n",
    "cur.execute(\"INSERT INTO Coffee VALUES ( 'Central American Dark', '16-001', 9.95)\")\n",
    "cur.execute(\"INSERT INTO Coffee VALUES ( 'Central American Medium', '16-002', 9.95)\")\n",
    "cur.execute(\"INSERT INTO Coffee VALUES ( 'Sumatra Dark', '17-001', 7.95)\")\n",
    "cur.execute(\"INSERT INTO Coffee VALUES ( 'Sumatra Decaf', '17-002', 8.95)\")\n",
    "cur.execute(\"INSERT INTO Coffee VALUES ( 'Sumatra Medium', '17-003', 7.95)\")\n",
    "cur.execute(\"INSERT INTO Coffee VALUES ( 'Sumatra Organic Dark', '17-004', 11.95)\")\n",
    "cur.execute(\"INSERT INTO Coffee VALUES ( 'Kona Medium', '18-001', 18.45)\")\n",
    "cur.execute(\"INSERT INTO Coffee VALUES ( 'Kona Dark', '18-002', 18.45)\")\n",
    "cur.execute(\"INSERT INTO Coffee VALUES ( 'French Roast Dark', '19-001', 9.65)\")\n",
    "cur.execute(\"INSERT INTO Coffee VALUES ( 'Galapagos Medium', '20-001', 6.85)\")\n",
    "cur.execute(\"INSERT INTO Coffee VALUES ( 'Guatemalan Dark', '21-001', 9.95)\")\n",
    "cur.execute(\"INSERT INTO Coffee VALUES ( 'Guatemalan Decaf', '21-002', 10.45)\")\n",
    "cur.execute(\"INSERT INTO Coffee VALUES ( 'Guatemalan Medium', '21-003', 9.95)\")\n",
    "print('Table Coffee created')\n",
    "            \n",
    "cur.execute(TABLE_CUSTOMER_STR)  \n",
    "# Insert rows\n",
    "cur.execute(\"INSERT INTO Customer VALUES ('101', 'Downtown Cafe', '17 N. Main Street','Asheville', 'NC', '55515')\")\t         \n",
    "cur.execute(\"INSERT INTO Customer VALUES ('102', 'Main Street Grocery','110 E. Main Street','Canton', 'NC', '55555')\")\n",
    "cur.execute(\"INSERT INTO Customer VALUES ('103', 'The Coffee Place', '101 Center Plaza', 'Waynesville', 'NC', '55516')\")\n",
    "print('Table Customer created')\n",
    "\n",
    "cur.execute(TABLE_UNPAID_STR)  \n",
    "\n",
    "print('Table UnpaidOrder created')\n",
    "\n",
    "conn.commit()\n",
    "\n",
    "\n",
    "# close the connection\n",
    "conn.close ()"
   ]
  }
 ],
 "metadata": {
  "kernelspec": {
   "display_name": "Python 3",
   "language": "python",
   "name": "python3"
  },
  "language_info": {
   "codemirror_mode": {
    "name": "ipython",
    "version": 3
   },
   "file_extension": ".py",
   "mimetype": "text/x-python",
   "name": "python",
   "nbconvert_exporter": "python",
   "pygments_lexer": "ipython3",
   "version": "3.8.8"
  }
 },
 "nbformat": 4,
 "nbformat_minor": 2
}
